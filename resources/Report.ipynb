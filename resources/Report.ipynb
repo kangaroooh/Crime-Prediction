{
 "cells": [
  {
   "cell_type": "markdown",
   "metadata": {},
   "source": [
    "# Crime prediction using hotel customer reviews\n",
    "\n",
    "Can hotel customer reviews be used as a proxy for predicting crime hotspots? Tourists are prime targets for criminals. Therefore, tourists and visitors are very likely to remain alert, attentive, and vigilant to suspicious activities and can be used as reliable “human crime sensors”. In this project, you will develop a crime sensing tool by fussing textual data from hotel reviews with police-recorded crime incidents from the wider London Metropolitan Area.\n",
    "\n",
    "## Dataset\n",
    "### Hotel Review Dataset \n",
    "Using TripAdvisor Hotel Review Dataset in London from year 2003-2016 (big thanks to Dr. Panos Kostakos and Dr. Mourad Oussalah for the access of data)\n",
    "\n",
    "The dataset contains about 140.000 customer reviews from hotels in London, and includes 15 features, where:\n",
    "\n",
    " - F1 = Hotel Name\n",
    " - F2 = Hotel Review Stars\n",
    " - F3 = Hotel Address\n",
    " - F4 = City\n",
    " - F5 = ZIP\n",
    " - F6 = Review Title\n",
    " - F7 = Review Date\n",
    " - F8 = Review Content\n",
    " - F9 = Review Stars\n",
    " - F10 = Reviewer Name\n",
    " - F11 = Reviewer Location\n",
    " - F12 = Reviewer Profile\n",
    " - F13 = Reviewer Total Reviews\n",
    " - F14 = Reviewer Hotel Reviews\n",
    " - F15 = Reviewer Helpful Votes"
   ]
  },
  {
   "cell_type": "code",
   "execution_count": 5,
   "metadata": {},
   "outputs": [],
   "source": [
    "# read data file and show sample data"
   ]
  },
  {
   "cell_type": "markdown",
   "metadata": {},
   "source": [
    "### Metropolitan Crime Dataset \n",
    "downloaded from https://data.police.uk/\n",
    "The data is selected from 3/2017 - 8/2017\n",
    "\n",
    "The `metropolitan-street.csv` dataset includes 15 features:\n",
    " - F1 = Crime ID\n",
    " - F2 = Month\n",
    " - F3 = Reported by\n",
    " - F4 = Falls within\n",
    " - F5 = Longitude\n",
    " - F6 = Latitude\n",
    " - F7 = Location\n",
    " - F8 = LSOA code\n",
    " - F9 = LSOA name\n",
    " - F10 = Crime type\n",
    " - F11 = Last outcome category\n",
    " - F12 = Context\n"
   ]
  },
  {
   "cell_type": "code",
   "execution_count": null,
   "metadata": {},
   "outputs": [],
   "source": [
    "# read crime data and show sample data"
   ]
  },
  {
   "cell_type": "markdown",
   "metadata": {},
   "source": [
    "## Crime Heatmaps Visualization"
   ]
  },
  {
   "cell_type": "code",
   "execution_count": 11,
   "metadata": {},
   "outputs": [],
   "source": [
    "# code for crime heatmap goes here"
   ]
  },
  {
   "cell_type": "markdown",
   "metadata": {},
   "source": [
    "## Geocoding on the Hotel data\n",
    "\n",
    "It might be a good idea to harmonize the two datasets, given that the Data.Police.uk dataset contains `Latitude` (F5) and `Longitude` (F6) variables, while the hotel reviews dataset contains only the `Hotel Address` (F3).\n",
    "\n",
    "### Preprocessing \n",
    "\n",
    "In the original data, there are some missing values of `Hotel Address`. For those hotels, we convert the `Hotel Name` and `City` to `Latitude` and `Longitude`\n",
    "\n",
    "**Note: If these two steps are done at the same time, please just adjust the markup to suit the situation**"
   ]
  },
  {
   "cell_type": "code",
   "execution_count": 4,
   "metadata": {},
   "outputs": [],
   "source": [
    "# show code and some sample of data preprocessing"
   ]
  },
  {
   "cell_type": "markdown",
   "metadata": {},
   "source": [
    "### Utilize Google Geocoding\n",
    "\n",
    "Use the Google’s Geocoding API (or any other free API OpenStreetMap.org) to convert addresses (like \"1600 Amphitheatre Parkway, Mountain View, CA\") into geographic coordinates (like latitude 37.423021 and longitude -122.083739). "
   ]
  },
  {
   "cell_type": "code",
   "execution_count": 6,
   "metadata": {},
   "outputs": [],
   "source": [
    "# show part of code where you call the Geocoding"
   ]
  },
  {
   "cell_type": "markdown",
   "metadata": {},
   "source": [
    "now our hotel data have 17 features (original + lat and lon)\n",
    "\n",
    " - F1 = Hotel Name\n",
    " - F2 = Hotel Review Stars\n",
    " - F3 = Hotel Address\n",
    " - F4 = City\n",
    " - F5 = ZIP\n",
    " - F6 = Review Title\n",
    " - F7 = Review Date\n",
    " - F8 = Review Content\n",
    " - F9 = Review Stars\n",
    " - F10 = Reviewer Name\n",
    " - F11 = Reviewer Location\n",
    " - F12 = Reviewer Profile\n",
    " - F13 = Reviewer Total Reviews\n",
    " - F14 = Reviewer Hotel Reviews\n",
    " - F15 = Reviewer Helpful Votes\n",
    " - F16 = Latitude\n",
    " - F17 = Longitude"
   ]
  },
  {
   "cell_type": "code",
   "execution_count": 7,
   "metadata": {},
   "outputs": [],
   "source": [
    "# show a small part of a new dataset's column"
   ]
  },
  {
   "cell_type": "markdown",
   "metadata": {},
   "source": [
    "## Feature Extraction from Hotel data\n",
    "\n",
    "### Effective Star Rating\n",
    "intuition goes here\n",
    "\n",
    "### Average number of prime per month\n",
    "during 6 months time frame\n",
    "\n",
    "### Geo-distance from the hotel to the crime\n",
    "blahblah"
   ]
  },
  {
   "cell_type": "code",
   "execution_count": 14,
   "metadata": {},
   "outputs": [],
   "source": [
    "# effective star rating code"
   ]
  },
  {
   "cell_type": "code",
   "execution_count": 15,
   "metadata": {},
   "outputs": [],
   "source": [
    "# Avg. nb of crime/month code"
   ]
  },
  {
   "cell_type": "code",
   "execution_count": 16,
   "metadata": {},
   "outputs": [],
   "source": [
    "# Geo-distance from hotel to crime code"
   ]
  },
  {
   "cell_type": "markdown",
   "metadata": {},
   "source": [
    "## Hotel Features Visualization"
   ]
  },
  {
   "cell_type": "code",
   "execution_count": 13,
   "metadata": {},
   "outputs": [],
   "source": [
    "# code for hotel features visualization goes here"
   ]
  },
  {
   "cell_type": "markdown",
   "metadata": {},
   "source": [
    "## Data Analysis\n",
    "\n",
    "### Fraud Detection\n",
    "Trying to eliminate users who gave negative reviews in all of their reviews"
   ]
  },
  {
   "cell_type": "code",
   "execution_count": 8,
   "metadata": {},
   "outputs": [],
   "source": [
    "# code for Fraud Detection goes here"
   ]
  },
  {
   "cell_type": "markdown",
   "metadata": {},
   "source": [
    "### Correlation Analysis"
   ]
  },
  {
   "cell_type": "code",
   "execution_count": 9,
   "metadata": {},
   "outputs": [],
   "source": [
    "# code for correlation goes here"
   ]
  },
  {
   "cell_type": "markdown",
   "metadata": {},
   "source": [
    "### Causality Analysis"
   ]
  },
  {
   "cell_type": "code",
   "execution_count": 10,
   "metadata": {},
   "outputs": [],
   "source": [
    "# code for causaulity Analysis goes here"
   ]
  }
 ],
 "metadata": {
  "kernelspec": {
   "display_name": "Python 3",
   "language": "python",
   "name": "python3"
  },
  "language_info": {
   "codemirror_mode": {
    "name": "ipython",
    "version": 3
   },
   "file_extension": ".py",
   "mimetype": "text/x-python",
   "name": "python",
   "nbconvert_exporter": "python",
   "pygments_lexer": "ipython3",
   "version": "3.7.1"
  }
 },
 "nbformat": 4,
 "nbformat_minor": 2
}
