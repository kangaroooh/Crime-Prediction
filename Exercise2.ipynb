{
  "nbformat": 4,
  "nbformat_minor": 0,
  "metadata": {
    "colab": {
      "name": "TM.ipynb",
      "version": "0.3.2",
      "provenance": [],
      "include_colab_link": true
    },
    "kernelspec": {
      "name": "python3",
      "display_name": "Python 3"
    }
  },
  "cells": [
    {
      "cell_type": "markdown",
      "metadata": {
        "id": "view-in-github",
        "colab_type": "text"
      },
      "source": [
        "<a href=\"https://colab.research.google.com/github/robroooh/txt-mng/blob/master/Exercise2.ipynb\" target=\"_parent\"><img src=\"https://colab.research.google.com/assets/colab-badge.svg\" alt=\"Open In Colab\"/></a>"
      ]
    },
    {
      "metadata": {
        "id": "JWXLHBS2s7Fv",
        "colab_type": "text"
      },
      "cell_type": "markdown",
      "source": [
        "## Installing Environment"
      ]
    },
    {
      "metadata": {
        "id": "cHAuE9kndAuM",
        "colab_type": "code",
        "outputId": "dd8560ab-c744-47ec-8ef0-3df64963b753",
        "colab": {
          "base_uri": "https://localhost:8080/",
          "height": 731
        }
      },
      "cell_type": "code",
      "source": [
        "!pip install nltk gensim numpy\n",
        "import nltk\n",
        "nltk.download('wordnet')"
      ],
      "execution_count": 1,
      "outputs": [
        {
          "output_type": "stream",
          "text": [
            "Requirement already satisfied: nltk in /usr/local/lib/python3.6/dist-packages (3.2.5)\n",
            "Collecting gensim\n",
            "\u001b[?25l  Downloading https://files.pythonhosted.org/packages/27/a4/d10c0acc8528d838cda5eede0ee9c784caa598dbf40bd0911ff8d067a7eb/gensim-3.6.0-cp36-cp36m-manylinux1_x86_64.whl (23.6MB)\n",
            "\u001b[K    100% |████████████████████████████████| 23.6MB 1.5MB/s \n",
            "\u001b[?25hRequirement already satisfied: numpy in /usr/local/lib/python3.6/dist-packages (1.14.6)\n",
            "Requirement already satisfied: six in /usr/local/lib/python3.6/dist-packages (from nltk) (1.11.0)\n",
            "Collecting smart-open>=1.2.1 (from gensim)\n",
            "  Downloading https://files.pythonhosted.org/packages/4b/1f/6f27e3682124de63ac97a0a5876da6186de6c19410feab66c1543afab055/smart_open-1.7.1.tar.gz\n",
            "Requirement already satisfied: scipy>=0.18.1 in /usr/local/lib/python3.6/dist-packages (from gensim) (1.1.0)\n",
            "Collecting boto>=2.32 (from smart-open>=1.2.1->gensim)\n",
            "\u001b[?25l  Downloading https://files.pythonhosted.org/packages/23/10/c0b78c27298029e4454a472a1919bde20cb182dab1662cec7f2ca1dcc523/boto-2.49.0-py2.py3-none-any.whl (1.4MB)\n",
            "\u001b[K    100% |████████████████████████████████| 1.4MB 14.6MB/s \n",
            "\u001b[?25hCollecting bz2file (from smart-open>=1.2.1->gensim)\n",
            "  Downloading https://files.pythonhosted.org/packages/61/39/122222b5e85cd41c391b68a99ee296584b2a2d1d233e7ee32b4532384f2d/bz2file-0.98.tar.gz\n",
            "Requirement already satisfied: requests in /usr/local/lib/python3.6/dist-packages (from smart-open>=1.2.1->gensim) (2.18.4)\n",
            "Collecting boto3 (from smart-open>=1.2.1->gensim)\n",
            "\u001b[?25l  Downloading https://files.pythonhosted.org/packages/4c/c0/6f56fdc3d318b0f09201eee51a26a1a4778c3f965bc307945d03f85fcef9/boto3-1.9.43-py2.py3-none-any.whl (126kB)\n",
            "\u001b[K    100% |████████████████████████████████| 133kB 31.3MB/s \n",
            "\u001b[?25hRequirement already satisfied: chardet<3.1.0,>=3.0.2 in /usr/local/lib/python3.6/dist-packages (from requests->smart-open>=1.2.1->gensim) (3.0.4)\n",
            "Requirement already satisfied: certifi>=2017.4.17 in /usr/local/lib/python3.6/dist-packages (from requests->smart-open>=1.2.1->gensim) (2018.10.15)\n",
            "Requirement already satisfied: idna<2.7,>=2.5 in /usr/local/lib/python3.6/dist-packages (from requests->smart-open>=1.2.1->gensim) (2.6)\n",
            "Requirement already satisfied: urllib3<1.23,>=1.21.1 in /usr/local/lib/python3.6/dist-packages (from requests->smart-open>=1.2.1->gensim) (1.22)\n",
            "Collecting botocore<1.13.0,>=1.12.43 (from boto3->smart-open>=1.2.1->gensim)\n",
            "\u001b[?25l  Downloading https://files.pythonhosted.org/packages/c4/d8/242e75a2d9df95510883b65d95c26dab16d2980296c5437782e4f961fbb6/botocore-1.12.43-py2.py3-none-any.whl (4.8MB)\n",
            "\u001b[K    100% |████████████████████████████████| 4.8MB 6.8MB/s \n",
            "\u001b[?25hCollecting jmespath<1.0.0,>=0.7.1 (from boto3->smart-open>=1.2.1->gensim)\n",
            "  Downloading https://files.pythonhosted.org/packages/b7/31/05c8d001f7f87f0f07289a5fc0fc3832e9a57f2dbd4d3b0fee70e0d51365/jmespath-0.9.3-py2.py3-none-any.whl\n",
            "Collecting s3transfer<0.2.0,>=0.1.10 (from boto3->smart-open>=1.2.1->gensim)\n",
            "\u001b[?25l  Downloading https://files.pythonhosted.org/packages/d7/14/2a0004d487464d120c9fb85313a75cd3d71a7506955be458eebfe19a6b1d/s3transfer-0.1.13-py2.py3-none-any.whl (59kB)\n",
            "\u001b[K    100% |████████████████████████████████| 61kB 24.5MB/s \n",
            "\u001b[?25hCollecting docutils>=0.10 (from botocore<1.13.0,>=1.12.43->boto3->smart-open>=1.2.1->gensim)\n",
            "\u001b[?25l  Downloading https://files.pythonhosted.org/packages/36/fa/08e9e6e0e3cbd1d362c3bbee8d01d0aedb2155c4ac112b19ef3cae8eed8d/docutils-0.14-py3-none-any.whl (543kB)\n",
            "\u001b[K    100% |████████████████████████████████| 552kB 24.7MB/s \n",
            "\u001b[?25hRequirement already satisfied: python-dateutil<3.0.0,>=2.1 in /usr/local/lib/python3.6/dist-packages (from botocore<1.13.0,>=1.12.43->boto3->smart-open>=1.2.1->gensim) (2.5.3)\n",
            "Building wheels for collected packages: smart-open, bz2file\n",
            "  Running setup.py bdist_wheel for smart-open ... \u001b[?25l-\b \b\\\b \bdone\n",
            "\u001b[?25h  Stored in directory: /root/.cache/pip/wheels/23/00/44/e5b939f7a80c04e32297dbd6d96fa3065af89ecf57e2b5f89f\n",
            "  Running setup.py bdist_wheel for bz2file ... \u001b[?25l-\b \bdone\n",
            "\u001b[?25h  Stored in directory: /root/.cache/pip/wheels/81/75/d6/e1317bf09bf1af5a30befc2a007869fa6e1f516b8f7c591cb9\n",
            "Successfully built smart-open bz2file\n",
            "Installing collected packages: boto, bz2file, docutils, jmespath, botocore, s3transfer, boto3, smart-open, gensim\n",
            "Successfully installed boto-2.49.0 boto3-1.9.43 botocore-1.12.43 bz2file-0.98 docutils-0.14 gensim-3.6.0 jmespath-0.9.3 s3transfer-0.1.13 smart-open-1.7.1\n"
          ],
          "name": "stdout"
        }
      ]
    },
    {
      "metadata": {
        "id": "z7A4iaUPs_7H",
        "colab_type": "text"
      },
      "cell_type": "markdown",
      "source": [
        "## Finding The synsets of Panda"
      ]
    },
    {
      "metadata": {
        "id": "FGn5AkGUs_mX",
        "colab_type": "code",
        "colab": {}
      },
      "cell_type": "code",
      "source": [
        "from nltk.corpus import wordnet as wn"
      ],
      "execution_count": 0,
      "outputs": []
    },
    {
      "metadata": {
        "id": "98NDvVZOdRHj",
        "colab_type": "code",
        "colab": {
          "base_uri": "https://localhost:8080/",
          "height": 34
        },
        "outputId": "c0359e2b-9cdd-4e00-84f2-ab1f8acd0aa4"
      },
      "cell_type": "code",
      "source": [
        "wn.synsets('panda')"
      ],
      "execution_count": 11,
      "outputs": [
        {
          "output_type": "execute_result",
          "data": {
            "text/plain": [
              "[Synset('giant_panda.n.01'), Synset('lesser_panda.n.01')]"
            ]
          },
          "metadata": {
            "tags": []
          },
          "execution_count": 11
        }
      ]
    },
    {
      "metadata": {
        "id": "ZNMNUmCamyAj",
        "colab_type": "code",
        "colab": {
          "base_uri": "https://localhost:8080/",
          "height": 51
        },
        "outputId": "c3ad3b19-a376-4108-a676-9db8d2671dd9"
      },
      "cell_type": "code",
      "source": [
        "for synset in wn.synsets('panda'):\n",
        "  print(synset.lemma_names())\n"
      ],
      "execution_count": 12,
      "outputs": [
        {
          "output_type": "stream",
          "text": [
            "['giant_panda', 'panda', 'panda_bear', 'coon_bear', 'Ailuropoda_melanoleuca']\n",
            "['lesser_panda', 'red_panda', 'panda', 'bear_cat', 'cat_bear', 'Ailurus_fulgens']\n"
          ],
          "name": "stdout"
        }
      ]
    },
    {
      "metadata": {
        "id": "WPFi2yVMnArU",
        "colab_type": "code",
        "colab": {
          "base_uri": "https://localhost:8080/",
          "height": 51
        },
        "outputId": "618208b8-ca30-4245-95d1-627193379102"
      },
      "cell_type": "code",
      "source": [
        "print(wn.synset('giant_panda.n.01').definition())\n",
        "print(wn.synset('lesser_panda.n.01').definition())"
      ],
      "execution_count": 16,
      "outputs": [
        {
          "output_type": "stream",
          "text": [
            "large black-and-white herbivorous mammal of bamboo forests of China and Tibet; in some classifications considered a member of the bear family or of a separate family Ailuropodidae\n",
            "reddish-brown Old World raccoon-like carnivore; in some classifications considered unrelated to the giant pandas\n"
          ],
          "name": "stdout"
        }
      ]
    },
    {
      "metadata": {
        "id": "uDhjiwqyr4HR",
        "colab_type": "text"
      },
      "cell_type": "markdown",
      "source": [
        "## Ranking the Most common synset of Car"
      ]
    },
    {
      "metadata": {
        "id": "GcyNmjaJnGAb",
        "colab_type": "code",
        "colab": {}
      },
      "cell_type": "code",
      "source": [
        "car = wn.synsets('car', 'n')"
      ],
      "execution_count": 0,
      "outputs": []
    },
    {
      "metadata": {
        "id": "KfrRJ76WrQpD",
        "colab_type": "code",
        "colab": {
          "base_uri": "https://localhost:8080/",
          "height": 34
        },
        "outputId": "7df95889-c26b-449d-c830-f08ea297cc15"
      },
      "cell_type": "code",
      "source": [
        "car[0].lemmas()[0].count() "
      ],
      "execution_count": 39,
      "outputs": [
        {
          "output_type": "execute_result",
          "data": {
            "text/plain": [
              "71"
            ]
          },
          "metadata": {
            "tags": []
          },
          "execution_count": 39
        }
      ]
    },
    {
      "metadata": {
        "id": "cv8SHfZOpvqG",
        "colab_type": "code",
        "colab": {
          "base_uri": "https://localhost:8080/",
          "height": 221
        },
        "outputId": "330d7f72-d3ca-4581-97e1-19834a1743f5"
      },
      "cell_type": "code",
      "source": [
        "car, car[0], car[0].lemmas(), car[0].lemmas()[0].count()"
      ],
      "execution_count": 46,
      "outputs": [
        {
          "output_type": "execute_result",
          "data": {
            "text/plain": [
              "([Synset('car.n.01'),\n",
              "  Synset('car.n.02'),\n",
              "  Synset('car.n.03'),\n",
              "  Synset('car.n.04'),\n",
              "  Synset('cable_car.n.01')],\n",
              " Synset('car.n.01'),\n",
              " [Lemma('car.n.01.car'),\n",
              "  Lemma('car.n.01.auto'),\n",
              "  Lemma('car.n.01.automobile'),\n",
              "  Lemma('car.n.01.machine'),\n",
              "  Lemma('car.n.01.motorcar')],\n",
              " 71)"
            ]
          },
          "metadata": {
            "tags": []
          },
          "execution_count": 46
        }
      ]
    },
    {
      "metadata": {
        "id": "UsleUrn6nce6",
        "colab_type": "code",
        "colab": {
          "base_uri": "https://localhost:8080/",
          "height": 272
        },
        "outputId": "e62a5e60-6024-475c-aeaa-12babf5ef0e1"
      },
      "cell_type": "code",
      "source": [
        "d={}\n",
        "for c in car:\n",
        "  for l in c.lemmas():\n",
        "    d[str(l)]= l.count()\n",
        "sorted_by_value = sorted(d.items(), key=lambda kv: kv[1], reverse=True)\n",
        "sorted_by_value"
      ],
      "execution_count": 51,
      "outputs": [
        {
          "output_type": "execute_result",
          "data": {
            "text/plain": [
              "[(\"Lemma('car.n.01.car')\", 71),\n",
              " (\"Lemma('car.n.01.automobile')\", 15),\n",
              " (\"Lemma('car.n.01.auto')\", 2),\n",
              " (\"Lemma('car.n.02.car')\", 2),\n",
              " (\"Lemma('car.n.01.motorcar')\", 1),\n",
              " (\"Lemma('car.n.01.machine')\", 0),\n",
              " (\"Lemma('car.n.02.railcar')\", 0),\n",
              " (\"Lemma('car.n.02.railway_car')\", 0),\n",
              " (\"Lemma('car.n.02.railroad_car')\", 0),\n",
              " (\"Lemma('car.n.03.car')\", 0),\n",
              " (\"Lemma('car.n.03.gondola')\", 0),\n",
              " (\"Lemma('car.n.04.car')\", 0),\n",
              " (\"Lemma('car.n.04.elevator_car')\", 0),\n",
              " (\"Lemma('cable_car.n.01.cable_car')\", 0),\n",
              " (\"Lemma('cable_car.n.01.car')\", 0)]"
            ]
          },
          "metadata": {
            "tags": []
          },
          "execution_count": 51
        }
      ]
    },
    {
      "metadata": {
        "id": "QVIx_i9dsaPg",
        "colab_type": "code",
        "colab": {
          "base_uri": "https://localhost:8080/",
          "height": 204
        },
        "outputId": "1da89c2e-6e44-42db-f098-10984d171a25"
      },
      "cell_type": "code",
      "source": [
        "d"
      ],
      "execution_count": 48,
      "outputs": [
        {
          "output_type": "execute_result",
          "data": {
            "text/plain": [
              "{Lemma('car.n.01.auto'): 2,\n",
              " Lemma('car.n.01.automobile'): 15,\n",
              " Lemma('cable_car.n.01.cable_car'): 0,\n",
              " Lemma('car.n.01.car'): 0,\n",
              " Lemma('car.n.04.elevator_car'): 0,\n",
              " Lemma('car.n.03.gondola'): 0,\n",
              " Lemma('car.n.01.machine'): 0,\n",
              " Lemma('car.n.01.motorcar'): 1,\n",
              " Lemma('car.n.02.railcar'): 0,\n",
              " Lemma('car.n.02.railroad_car'): 0,\n",
              " Lemma('car.n.02.railway_car'): 0}"
            ]
          },
          "metadata": {
            "tags": []
          },
          "execution_count": 48
        }
      ]
    },
    {
      "metadata": {
        "id": "AtLguc64tLN2",
        "colab_type": "text"
      },
      "cell_type": "markdown",
      "source": [
        "## Compute Sentence Similarity"
      ]
    },
    {
      "metadata": {
        "id": "24y0H1InoB5v",
        "colab_type": "code",
        "colab": {}
      },
      "cell_type": "code",
      "source": [
        "t1 = \"This is a good car\"\n",
        "t2 = \"This is a bad car\"\n"
      ],
      "execution_count": 0,
      "outputs": []
    }
  ]
}